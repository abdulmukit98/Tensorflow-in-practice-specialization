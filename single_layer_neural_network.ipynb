{
  "nbformat": 4,
  "nbformat_minor": 0,
  "metadata": {
    "colab": {
      "name": "single layer neural network.ipynb",
      "provenance": [],
      "collapsed_sections": [],
      "authorship_tag": "ABX9TyMAqdGsV09mpMgpGw0+ztTv",
      "include_colab_link": true
    },
    "kernelspec": {
      "name": "python3",
      "display_name": "Python 3"
    },
    "accelerator": "GPU"
  },
  "cells": [
    {
      "cell_type": "markdown",
      "metadata": {
        "id": "view-in-github",
        "colab_type": "text"
      },
      "source": [
        "<a href=\"https://colab.research.google.com/github/abdulmukit98/Tensorflow-in-practice-specialization/blob/master/single_layer_neural_network.ipynb\" target=\"_parent\"><img src=\"https://colab.research.google.com/assets/colab-badge.svg\" alt=\"Open In Colab\"/></a>"
      ]
    },
    {
      "cell_type": "code",
      "metadata": {
        "id": "Qjy6Hw4HfZKv",
        "colab_type": "code",
        "colab": {
          "base_uri": "https://localhost:8080/",
          "height": 1000
        },
        "outputId": "2b0a2b43-ba9d-47a4-9cbb-8cc5ede0c7d8"
      },
      "source": [
        "!pip install tf-nightly-2.0-preview"
      ],
      "execution_count": 1,
      "outputs": [
        {
          "output_type": "stream",
          "text": [
            "Collecting tf-nightly-2.0-preview\n",
            "\u001b[?25l  Downloading https://files.pythonhosted.org/packages/b8/be/e4e2cc0b4896648fe6d5e45dda6d8c3b784823301708cfe4ff96de9e01cf/tf_nightly_2.0_preview-2.0.0.dev20191002-cp36-cp36m-manylinux2010_x86_64.whl (95.2MB)\n",
            "\u001b[K     |████████████████████████████████| 95.2MB 45kB/s \n",
            "\u001b[?25hRequirement already satisfied: absl-py>=0.7.0 in /usr/local/lib/python3.6/dist-packages (from tf-nightly-2.0-preview) (0.9.0)\n",
            "Requirement already satisfied: termcolor>=1.1.0 in /usr/local/lib/python3.6/dist-packages (from tf-nightly-2.0-preview) (1.1.0)\n",
            "Requirement already satisfied: wheel>=0.26; python_version >= \"3\" in /usr/local/lib/python3.6/dist-packages (from tf-nightly-2.0-preview) (0.33.6)\n",
            "Requirement already satisfied: astor>=0.6.0 in /usr/local/lib/python3.6/dist-packages (from tf-nightly-2.0-preview) (0.8.1)\n",
            "Requirement already satisfied: protobuf>=3.6.1 in /usr/local/lib/python3.6/dist-packages (from tf-nightly-2.0-preview) (3.10.0)\n",
            "Requirement already satisfied: six>=1.10.0 in /usr/local/lib/python3.6/dist-packages (from tf-nightly-2.0-preview) (1.12.0)\n",
            "Requirement already satisfied: gast==0.2.2 in /usr/local/lib/python3.6/dist-packages (from tf-nightly-2.0-preview) (0.2.2)\n",
            "Requirement already satisfied: google-pasta>=0.1.6 in /usr/local/lib/python3.6/dist-packages (from tf-nightly-2.0-preview) (0.1.8)\n",
            "Requirement already satisfied: opt-einsum>=2.3.2 in /usr/local/lib/python3.6/dist-packages (from tf-nightly-2.0-preview) (3.1.0)\n",
            "Requirement already satisfied: keras-preprocessing>=1.0.5 in /usr/local/lib/python3.6/dist-packages (from tf-nightly-2.0-preview) (1.1.0)\n",
            "Collecting tensorflow-estimator-2.0-preview\n",
            "\u001b[?25l  Downloading https://files.pythonhosted.org/packages/db/f5/790508e193121ab301cb40cada7f451c531404051ac9249f21b1f5484450/tensorflow_estimator_2.0_preview-2.0.0-py2.py3-none-any.whl (449kB)\n",
            "\u001b[K     |████████████████████████████████| 450kB 33.8MB/s \n",
            "\u001b[?25hRequirement already satisfied: numpy<2.0,>=1.16.0 in /usr/local/lib/python3.6/dist-packages (from tf-nightly-2.0-preview) (1.17.5)\n",
            "Collecting tb-nightly<2.2.0a0,>=2.1.0a0\n",
            "\u001b[?25l  Downloading https://files.pythonhosted.org/packages/48/6b/b9e735120c77721570aed36cec55390827db0d580b14a5ffd93a4cce5997/tb_nightly-2.1.0a20191206-py3-none-any.whl (3.8MB)\n",
            "\u001b[K     |████████████████████████████████| 3.8MB 49.3MB/s \n",
            "\u001b[?25hRequirement already satisfied: grpcio>=1.8.6 in /usr/local/lib/python3.6/dist-packages (from tf-nightly-2.0-preview) (1.15.0)\n",
            "Requirement already satisfied: keras-applications>=1.0.8 in /usr/local/lib/python3.6/dist-packages (from tf-nightly-2.0-preview) (1.0.8)\n",
            "Requirement already satisfied: wrapt>=1.11.1 in /usr/local/lib/python3.6/dist-packages (from tf-nightly-2.0-preview) (1.11.2)\n",
            "Requirement already satisfied: setuptools in /usr/local/lib/python3.6/dist-packages (from protobuf>=3.6.1->tf-nightly-2.0-preview) (42.0.2)\n",
            "Requirement already satisfied: requests<3,>=2.21.0 in /usr/local/lib/python3.6/dist-packages (from tb-nightly<2.2.0a0,>=2.1.0a0->tf-nightly-2.0-preview) (2.21.0)\n",
            "Collecting google-auth<2,>=1.6.3\n",
            "\u001b[?25l  Downloading https://files.pythonhosted.org/packages/8d/5f/a1a02695b96d0e09c38abf7d1576b137979cea3d060d60891622cf61276d/google_auth-1.10.1-py2.py3-none-any.whl (76kB)\n",
            "\u001b[K     |████████████████████████████████| 81kB 11.2MB/s \n",
            "\u001b[?25hRequirement already satisfied: werkzeug>=0.11.15 in /usr/local/lib/python3.6/dist-packages (from tb-nightly<2.2.0a0,>=2.1.0a0->tf-nightly-2.0-preview) (0.16.0)\n",
            "Requirement already satisfied: markdown>=2.6.8 in /usr/local/lib/python3.6/dist-packages (from tb-nightly<2.2.0a0,>=2.1.0a0->tf-nightly-2.0-preview) (3.1.1)\n",
            "Requirement already satisfied: google-auth-oauthlib<0.5,>=0.4.1 in /usr/local/lib/python3.6/dist-packages (from tb-nightly<2.2.0a0,>=2.1.0a0->tf-nightly-2.0-preview) (0.4.1)\n",
            "Requirement already satisfied: h5py in /usr/local/lib/python3.6/dist-packages (from keras-applications>=1.0.8->tf-nightly-2.0-preview) (2.8.0)\n",
            "Requirement already satisfied: urllib3<1.25,>=1.21.1 in /usr/local/lib/python3.6/dist-packages (from requests<3,>=2.21.0->tb-nightly<2.2.0a0,>=2.1.0a0->tf-nightly-2.0-preview) (1.24.3)\n",
            "Requirement already satisfied: idna<2.9,>=2.5 in /usr/local/lib/python3.6/dist-packages (from requests<3,>=2.21.0->tb-nightly<2.2.0a0,>=2.1.0a0->tf-nightly-2.0-preview) (2.8)\n",
            "Requirement already satisfied: chardet<3.1.0,>=3.0.2 in /usr/local/lib/python3.6/dist-packages (from requests<3,>=2.21.0->tb-nightly<2.2.0a0,>=2.1.0a0->tf-nightly-2.0-preview) (3.0.4)\n",
            "Requirement already satisfied: certifi>=2017.4.17 in /usr/local/lib/python3.6/dist-packages (from requests<3,>=2.21.0->tb-nightly<2.2.0a0,>=2.1.0a0->tf-nightly-2.0-preview) (2019.11.28)\n",
            "Requirement already satisfied: pyasn1-modules>=0.2.1 in /usr/local/lib/python3.6/dist-packages (from google-auth<2,>=1.6.3->tb-nightly<2.2.0a0,>=2.1.0a0->tf-nightly-2.0-preview) (0.2.7)\n",
            "Requirement already satisfied: cachetools<5.0,>=2.0.0 in /usr/local/lib/python3.6/dist-packages (from google-auth<2,>=1.6.3->tb-nightly<2.2.0a0,>=2.1.0a0->tf-nightly-2.0-preview) (4.0.0)\n",
            "Requirement already satisfied: rsa<4.1,>=3.1.4 in /usr/local/lib/python3.6/dist-packages (from google-auth<2,>=1.6.3->tb-nightly<2.2.0a0,>=2.1.0a0->tf-nightly-2.0-preview) (4.0)\n",
            "Requirement already satisfied: requests-oauthlib>=0.7.0 in /usr/local/lib/python3.6/dist-packages (from google-auth-oauthlib<0.5,>=0.4.1->tb-nightly<2.2.0a0,>=2.1.0a0->tf-nightly-2.0-preview) (1.3.0)\n",
            "Requirement already satisfied: pyasn1<0.5.0,>=0.4.6 in /usr/local/lib/python3.6/dist-packages (from pyasn1-modules>=0.2.1->google-auth<2,>=1.6.3->tb-nightly<2.2.0a0,>=2.1.0a0->tf-nightly-2.0-preview) (0.4.8)\n",
            "Requirement already satisfied: oauthlib>=3.0.0 in /usr/local/lib/python3.6/dist-packages (from requests-oauthlib>=0.7.0->google-auth-oauthlib<0.5,>=0.4.1->tb-nightly<2.2.0a0,>=2.1.0a0->tf-nightly-2.0-preview) (3.1.0)\n",
            "\u001b[31mERROR: google-colab 1.0.0 has requirement google-auth~=1.4.0, but you'll have google-auth 1.10.1 which is incompatible.\u001b[0m\n",
            "\u001b[31mERROR: tb-nightly 2.1.0a20191206 has requirement grpcio>=1.24.3, but you'll have grpcio 1.15.0 which is incompatible.\u001b[0m\n",
            "Installing collected packages: tensorflow-estimator-2.0-preview, google-auth, tb-nightly, tf-nightly-2.0-preview\n",
            "  Found existing installation: google-auth 1.4.2\n",
            "    Uninstalling google-auth-1.4.2:\n",
            "      Successfully uninstalled google-auth-1.4.2\n",
            "Successfully installed google-auth-1.10.1 tb-nightly-2.1.0a20191206 tensorflow-estimator-2.0-preview-2.0.0 tf-nightly-2.0-preview-2.0.0.dev20191002\n"
          ],
          "name": "stdout"
        },
        {
          "output_type": "display_data",
          "data": {
            "application/vnd.colab-display-data+json": {
              "pip_warning": {
                "packages": [
                  "google"
                ]
              }
            }
          },
          "metadata": {
            "tags": []
          }
        }
      ]
    },
    {
      "cell_type": "code",
      "metadata": {
        "id": "jJAFUDAbiH1A",
        "colab_type": "code",
        "colab": {
          "base_uri": "https://localhost:8080/",
          "height": 35
        },
        "outputId": "10a280f8-65c6-4781-e25d-49599cf77382"
      },
      "source": [
        "import tensorflow as tf\n",
        "import numpy as np\n",
        "import matplotlib.pyplot as plt\n",
        "print(tf.__version__)"
      ],
      "execution_count": 7,
      "outputs": [
        {
          "output_type": "stream",
          "text": [
            "2.0.0-dev20191002\n"
          ],
          "name": "stdout"
        }
      ]
    },
    {
      "cell_type": "code",
      "metadata": {
        "id": "OXCN__3LiUr6",
        "colab_type": "code",
        "colab": {}
      },
      "source": [
        "def plot_series(time, series, format=\"-\", start=0, end=None):\n",
        "  plt.plot(time[start:end], series[start:end], format)\n",
        "  plt.xlabel(\"Time\")\n",
        "  plt.ylabel(\"Value\")\n",
        "  plt.grid(True)\n",
        "\n",
        "def trend(time, slope=0):\n",
        "  return slope * time\n",
        "\n",
        "def seasonal_pattern(season_time):\n",
        "  return np.where(season_time < 0.4,\n",
        "                  np.cos(season_time * 2 * np.pi),\n",
        "                  1 / np.exp(3 * season_time))\n",
        "\n",
        "def seasonality(time, period, amplitude=1, phase=0):\n",
        "  season_time = ((time + phase) % period) / period\n",
        "  return amplitude * seasonal_pattern(season_time)\n",
        "\n",
        "def noise(time, noise_level=1, seed=None):\n",
        "  rnd = np.random.RandomState(seed)\n",
        "  return rnd.randn(len(time)) * noise_level\n",
        "\n",
        "time = np.arange(4 * 365 + 1, dtype='float32')\n",
        "baseline = 10\n",
        "series = trend (time, 0.1)\n",
        "amplitude = 40\n",
        "slope = 0.05\n",
        "noise_level = 5\n",
        "\n",
        "#Create the series\n",
        "series = baseline + trend(time, slope) + seasonality(time, period=365, amplitude=amplitude)\n",
        "#Update with noise\n",
        "series += noise(time, noise_level, seed=42)\n",
        "\n",
        "split_time = 1000\n",
        "time_train = time[:split_time]\n",
        "x_train    = series[:split_time]\n",
        "time_valid = time[split_time:]\n",
        "x_valid    = series[split_time:]\n",
        "\n",
        "window_size = 20\n",
        "batch_size = 32\n",
        "shuffle_buffer_size = 1000"
      ],
      "execution_count": 0,
      "outputs": []
    },
    {
      "cell_type": "code",
      "metadata": {
        "id": "xYdBS8cVm4Ai",
        "colab_type": "code",
        "colab": {}
      },
      "source": [
        "def windowed_dataset(series, window_size, batch_size, shuffle_buffer):\n",
        "  dataset = tf.data.Dataset.from_tensor_slices(series)\n",
        "  dataset = dataset.window(window_size + 1, shift=1, drop_remainder=True)\n",
        "  dataset = dataset.flat_map(lambda window: window.batch(window_size + 1))\n",
        "  dataset = dataset.shuffle(shuffle_buffer).map(lambda window: (window[:-1], window[-1]))\n",
        "  dataset = dataset.batch(batch_size).prefetch(1)\n",
        "  return dataset\n"
      ],
      "execution_count": 0,
      "outputs": []
    },
    {
      "cell_type": "code",
      "metadata": {
        "id": "cM8pRzXCqpBP",
        "colab_type": "code",
        "colab": {
          "base_uri": "https://localhost:8080/",
          "height": 1000
        },
        "outputId": "9c045310-ae74-4223-9072-eefe98ad449b"
      },
      "source": [
        "dataset = windowed_dataset(x_train, window_size, batch_size, shuffle_buffer_size)\n",
        "print(dataset)\n",
        "\n",
        "l0 = tf.keras.layers.Dense(1, input_shape=[window_size])\n",
        "model = tf.keras.models.Sequential([l0])\n",
        "model.compile(\n",
        "    loss='mse',\n",
        "    optimizer=tf.keras.optimizers.SGD(lr=1e-6, momentum=0.9)\n",
        ")\n",
        "model.fit(dataset, epochs=100)\n",
        "print(\"layer weight {}\".format(l0.get_weights()))"
      ],
      "execution_count": 14,
      "outputs": [
        {
          "output_type": "stream",
          "text": [
            "<PrefetchDataset shapes: ((None, None), (None,)), types: (tf.float32, tf.float32)>\n",
            "Epoch 1/100\n",
            "31/31 [==============================] - 1s 17ms/step - loss: 1210.7831\n",
            "Epoch 2/100\n",
            "31/31 [==============================] - 0s 4ms/step - loss: 190.2981\n",
            "Epoch 3/100\n",
            "31/31 [==============================] - 0s 5ms/step - loss: 145.5507\n",
            "Epoch 4/100\n",
            "31/31 [==============================] - 0s 4ms/step - loss: 132.6430\n",
            "Epoch 5/100\n",
            "31/31 [==============================] - 0s 3ms/step - loss: 125.0603\n",
            "Epoch 6/100\n",
            "31/31 [==============================] - 0s 4ms/step - loss: 119.5806\n",
            "Epoch 7/100\n",
            "31/31 [==============================] - 0s 3ms/step - loss: 113.6788\n",
            "Epoch 8/100\n",
            "31/31 [==============================] - 0s 4ms/step - loss: 111.7347\n",
            "Epoch 9/100\n",
            "31/31 [==============================] - 0s 4ms/step - loss: 107.2555\n",
            "Epoch 10/100\n",
            "31/31 [==============================] - 0s 3ms/step - loss: 100.8047\n",
            "Epoch 11/100\n",
            "31/31 [==============================] - 0s 4ms/step - loss: 96.8983\n",
            "Epoch 12/100\n",
            "31/31 [==============================] - 0s 4ms/step - loss: 95.8668\n",
            "Epoch 13/100\n",
            "31/31 [==============================] - 0s 4ms/step - loss: 90.2251\n",
            "Epoch 14/100\n",
            "31/31 [==============================] - 0s 4ms/step - loss: 87.8710\n",
            "Epoch 15/100\n",
            "31/31 [==============================] - 0s 3ms/step - loss: 86.6531\n",
            "Epoch 16/100\n",
            "31/31 [==============================] - 0s 4ms/step - loss: 81.9108\n",
            "Epoch 17/100\n",
            "31/31 [==============================] - 0s 3ms/step - loss: 82.3847\n",
            "Epoch 18/100\n",
            "31/31 [==============================] - 0s 4ms/step - loss: 79.3942\n",
            "Epoch 19/100\n",
            "31/31 [==============================] - 0s 3ms/step - loss: 77.3296\n",
            "Epoch 20/100\n",
            "31/31 [==============================] - 0s 4ms/step - loss: 74.6604\n",
            "Epoch 21/100\n",
            "31/31 [==============================] - 0s 4ms/step - loss: 73.2857\n",
            "Epoch 22/100\n",
            "31/31 [==============================] - 0s 3ms/step - loss: 71.5038\n",
            "Epoch 23/100\n",
            "31/31 [==============================] - 0s 4ms/step - loss: 69.8610\n",
            "Epoch 24/100\n",
            "31/31 [==============================] - 0s 4ms/step - loss: 69.8329\n",
            "Epoch 25/100\n",
            "31/31 [==============================] - 0s 4ms/step - loss: 67.2927\n",
            "Epoch 26/100\n",
            "31/31 [==============================] - 0s 3ms/step - loss: 68.2527\n",
            "Epoch 27/100\n",
            "31/31 [==============================] - 0s 4ms/step - loss: 63.6447\n",
            "Epoch 28/100\n",
            "31/31 [==============================] - 0s 4ms/step - loss: 64.0152\n",
            "Epoch 29/100\n",
            "31/31 [==============================] - 0s 4ms/step - loss: 61.9223\n",
            "Epoch 30/100\n",
            "31/31 [==============================] - 0s 4ms/step - loss: 62.5196\n",
            "Epoch 31/100\n",
            "31/31 [==============================] - 0s 3ms/step - loss: 61.9240\n",
            "Epoch 32/100\n",
            "31/31 [==============================] - 0s 3ms/step - loss: 59.6876\n",
            "Epoch 33/100\n",
            "31/31 [==============================] - 0s 4ms/step - loss: 59.4536\n",
            "Epoch 34/100\n",
            "31/31 [==============================] - 0s 4ms/step - loss: 57.4362\n",
            "Epoch 35/100\n",
            "31/31 [==============================] - 0s 3ms/step - loss: 60.0130\n",
            "Epoch 36/100\n",
            "31/31 [==============================] - 0s 4ms/step - loss: 57.2528\n",
            "Epoch 37/100\n",
            "31/31 [==============================] - 0s 4ms/step - loss: 55.5278\n",
            "Epoch 38/100\n",
            "31/31 [==============================] - 0s 4ms/step - loss: 56.2839\n",
            "Epoch 39/100\n",
            "31/31 [==============================] - 0s 4ms/step - loss: 54.6980\n",
            "Epoch 40/100\n",
            "31/31 [==============================] - 0s 4ms/step - loss: 53.6666\n",
            "Epoch 41/100\n",
            "31/31 [==============================] - 0s 4ms/step - loss: 53.7768\n",
            "Epoch 42/100\n",
            "31/31 [==============================] - 0s 4ms/step - loss: 54.0722\n",
            "Epoch 43/100\n",
            "31/31 [==============================] - 0s 4ms/step - loss: 52.0476\n",
            "Epoch 44/100\n",
            "31/31 [==============================] - 0s 4ms/step - loss: 52.4241\n",
            "Epoch 45/100\n",
            "31/31 [==============================] - 0s 4ms/step - loss: 51.9467\n",
            "Epoch 46/100\n",
            "31/31 [==============================] - 0s 4ms/step - loss: 52.5721\n",
            "Epoch 47/100\n",
            "31/31 [==============================] - 0s 4ms/step - loss: 50.6201\n",
            "Epoch 48/100\n",
            "31/31 [==============================] - 0s 4ms/step - loss: 50.4623\n",
            "Epoch 49/100\n",
            "31/31 [==============================] - 0s 4ms/step - loss: 51.1289\n",
            "Epoch 50/100\n",
            "31/31 [==============================] - 0s 4ms/step - loss: 51.0319\n",
            "Epoch 51/100\n",
            "31/31 [==============================] - 0s 3ms/step - loss: 49.3582\n",
            "Epoch 52/100\n",
            "31/31 [==============================] - 0s 4ms/step - loss: 49.8392\n",
            "Epoch 53/100\n",
            "31/31 [==============================] - 0s 4ms/step - loss: 48.8299\n",
            "Epoch 54/100\n",
            "31/31 [==============================] - 0s 3ms/step - loss: 50.4152\n",
            "Epoch 55/100\n",
            "31/31 [==============================] - 0s 4ms/step - loss: 48.5873\n",
            "Epoch 56/100\n",
            "31/31 [==============================] - 0s 4ms/step - loss: 48.8738\n",
            "Epoch 57/100\n",
            "31/31 [==============================] - 0s 4ms/step - loss: 48.8591\n",
            "Epoch 58/100\n",
            "31/31 [==============================] - 0s 4ms/step - loss: 48.9015\n",
            "Epoch 59/100\n",
            "31/31 [==============================] - 0s 4ms/step - loss: 47.7400\n",
            "Epoch 60/100\n",
            "31/31 [==============================] - 0s 4ms/step - loss: 48.0076\n",
            "Epoch 61/100\n",
            "31/31 [==============================] - 0s 4ms/step - loss: 48.1688\n",
            "Epoch 62/100\n",
            "31/31 [==============================] - 0s 4ms/step - loss: 47.1361\n",
            "Epoch 63/100\n",
            "31/31 [==============================] - 0s 4ms/step - loss: 48.0634\n",
            "Epoch 64/100\n",
            "31/31 [==============================] - 0s 4ms/step - loss: 46.5743\n",
            "Epoch 65/100\n",
            "31/31 [==============================] - 0s 4ms/step - loss: 46.6582\n",
            "Epoch 66/100\n",
            "31/31 [==============================] - 0s 4ms/step - loss: 46.7484\n",
            "Epoch 67/100\n",
            "31/31 [==============================] - 0s 4ms/step - loss: 46.1937\n",
            "Epoch 68/100\n",
            "31/31 [==============================] - 0s 4ms/step - loss: 46.0317\n",
            "Epoch 69/100\n",
            "31/31 [==============================] - 0s 4ms/step - loss: 46.2599\n",
            "Epoch 70/100\n",
            "31/31 [==============================] - 0s 3ms/step - loss: 46.0638\n",
            "Epoch 71/100\n",
            "31/31 [==============================] - 0s 4ms/step - loss: 46.1742\n",
            "Epoch 72/100\n",
            "31/31 [==============================] - 0s 4ms/step - loss: 45.1231\n",
            "Epoch 73/100\n",
            "31/31 [==============================] - 0s 4ms/step - loss: 45.9149\n",
            "Epoch 74/100\n",
            "31/31 [==============================] - 0s 4ms/step - loss: 45.1795\n",
            "Epoch 75/100\n",
            "31/31 [==============================] - 0s 4ms/step - loss: 46.0694\n",
            "Epoch 76/100\n",
            "31/31 [==============================] - 0s 4ms/step - loss: 44.9087\n",
            "Epoch 77/100\n",
            "31/31 [==============================] - 0s 4ms/step - loss: 45.0291\n",
            "Epoch 78/100\n",
            "31/31 [==============================] - 0s 4ms/step - loss: 44.9087\n",
            "Epoch 79/100\n",
            "31/31 [==============================] - 0s 4ms/step - loss: 44.9469\n",
            "Epoch 80/100\n",
            "31/31 [==============================] - 0s 5ms/step - loss: 45.0421\n",
            "Epoch 81/100\n",
            "31/31 [==============================] - 0s 4ms/step - loss: 44.7693\n",
            "Epoch 82/100\n",
            "31/31 [==============================] - 0s 4ms/step - loss: 46.1684\n",
            "Epoch 83/100\n",
            "31/31 [==============================] - 0s 4ms/step - loss: 45.2808\n",
            "Epoch 84/100\n",
            "31/31 [==============================] - 0s 4ms/step - loss: 44.4605\n",
            "Epoch 85/100\n",
            "31/31 [==============================] - 0s 3ms/step - loss: 45.2681\n",
            "Epoch 86/100\n",
            "31/31 [==============================] - 0s 4ms/step - loss: 44.4223\n",
            "Epoch 87/100\n",
            "31/31 [==============================] - 0s 4ms/step - loss: 44.4567\n",
            "Epoch 88/100\n",
            "31/31 [==============================] - 0s 4ms/step - loss: 45.3700\n",
            "Epoch 89/100\n",
            "31/31 [==============================] - 0s 4ms/step - loss: 44.8149\n",
            "Epoch 90/100\n",
            "31/31 [==============================] - 0s 4ms/step - loss: 44.5938\n",
            "Epoch 91/100\n",
            "31/31 [==============================] - 0s 4ms/step - loss: 44.7893\n",
            "Epoch 92/100\n",
            "31/31 [==============================] - 0s 4ms/step - loss: 44.0424\n",
            "Epoch 93/100\n",
            "31/31 [==============================] - 0s 4ms/step - loss: 44.6135\n",
            "Epoch 94/100\n",
            "31/31 [==============================] - 0s 3ms/step - loss: 44.2612\n",
            "Epoch 95/100\n",
            "31/31 [==============================] - 0s 4ms/step - loss: 43.8670\n",
            "Epoch 96/100\n",
            "31/31 [==============================] - 0s 3ms/step - loss: 44.1147\n",
            "Epoch 97/100\n",
            "31/31 [==============================] - 0s 4ms/step - loss: 45.2382\n",
            "Epoch 98/100\n",
            "31/31 [==============================] - 0s 4ms/step - loss: 43.7813\n",
            "Epoch 99/100\n",
            "31/31 [==============================] - 0s 4ms/step - loss: 43.9790\n",
            "Epoch 100/100\n",
            "31/31 [==============================] - 0s 4ms/step - loss: 44.7645\n",
            "layer weight [array([[ 0.01861736],\n",
            "       [-0.00237028],\n",
            "       [-0.02358103],\n",
            "       [-0.05408305],\n",
            "       [ 0.04892816],\n",
            "       [ 0.02145801],\n",
            "       [-0.0330878 ],\n",
            "       [ 0.04840444],\n",
            "       [ 0.00201146],\n",
            "       [-0.06054435],\n",
            "       [ 0.02039542],\n",
            "       [ 0.03448269],\n",
            "       [-0.07825106],\n",
            "       [ 0.04330982],\n",
            "       [ 0.07706206],\n",
            "       [-0.00079208],\n",
            "       [ 0.0551098 ],\n",
            "       [ 0.17719859],\n",
            "       [ 0.27189007],\n",
            "       [ 0.42836577]], dtype=float32), array([0.01575888], dtype=float32)]\n"
          ],
          "name": "stdout"
        }
      ]
    },
    {
      "cell_type": "code",
      "metadata": {
        "id": "J33-m3OkwTKI",
        "colab_type": "code",
        "colab": {
          "base_uri": "https://localhost:8080/",
          "height": 388
        },
        "outputId": "78116490-2224-40fc-9461-53876a77b4fe"
      },
      "source": [
        "forecast = []\n",
        "\n",
        "for time in range(len(series) - window_size):\n",
        "  forecast.append(\n",
        "      model.predict(series[time : time + window_size][np.newaxis])\n",
        "  )\n",
        "forecast = forecast[split_time - window_size:]\n",
        "results = np.array(forecast)[:, 0, 0]\n",
        "\n",
        "plt.figure(figsize=(9,6))\n",
        "plot_series(time_valid, x_valid)\n",
        "plot_series(time_valid, results)"
      ],
      "execution_count": 15,
      "outputs": [
        {
          "output_type": "display_data",
          "data": {
            "image/png": "[encoded data removed]",
            "text/plain": [
              "<Figure size 648x432 with 1 Axes>"
            ]
          },
          "metadata": {
            "tags": []
          }
        }
      ]
    },
    {
      "cell_type": "code",
      "metadata": {
        "id": "LeOd6QASxag8",
        "colab_type": "code",
        "colab": {
          "base_uri": "https://localhost:8080/",
          "height": 35
        },
        "outputId": "d5a50938-fac0-47a1-b86c-d4353add8fab"
      },
      "source": [
        "tf.keras.metrics.mean_absolute_error(x_valid, results).numpy()"
      ],
      "execution_count": 16,
      "outputs": [
        {
          "output_type": "execute_result",
          "data": {
            "text/plain": [
              "4.902054"
            ]
          },
          "metadata": {
            "tags": []
          },
          "execution_count": 16
        }
      ]
    }
  ]
}